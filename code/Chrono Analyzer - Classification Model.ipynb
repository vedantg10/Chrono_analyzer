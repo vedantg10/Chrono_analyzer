{
 "cells": [
  {
   "cell_type": "code",
   "execution_count": 6,
   "id": "3a70d831",
   "metadata": {},
   "outputs": [],
   "source": [
    "import pathlib\n",
    "import numpy as np\n",
    "from fastai.vision import ImageList\n"
   ]
  },
  {
   "cell_type": "code",
   "execution_count": 7,
   "id": "36f2b0f1",
   "metadata": {},
   "outputs": [],
   "source": [
    "chrono_images_path = pathlib.Path('/Users/vedant/Documents/React Learning/Chrono_analyzer/code/images')"
   ]
  },
  {
   "cell_type": "code",
   "execution_count": 8,
   "id": "cae71e54",
   "metadata": {},
   "outputs": [],
   "source": [
    "np.random.seed(42)"
   ]
  },
  {
   "cell_type": "code",
   "execution_count": null,
   "id": "00438b6b",
   "metadata": {},
   "outputs": [],
   "source": [
    "data = (ImageList.from_folder(chrono_images_path))"
   ]
  }
 ],
 "metadata": {
  "kernelspec": {
   "display_name": "Python 3 (ipykernel)",
   "language": "python",
   "name": "python3"
  },
  "language_info": {
   "codemirror_mode": {
    "name": "ipython",
    "version": 3
   },
   "file_extension": ".py",
   "mimetype": "text/x-python",
   "name": "python",
   "nbconvert_exporter": "python",
   "pygments_lexer": "ipython3",
   "version": "3.9.13"
  }
 },
 "nbformat": 4,
 "nbformat_minor": 5
}
